{
 "cells": [
  {
   "cell_type": "markdown",
   "metadata": {},
   "source": [
    "# 调试与打印函数\n",
    "为了顺利的运行程序 我们需要简单的对Python进行调试。\n",
    "我们可以用简单的**Print**来进行测试。\n",
    "用法\n",
    "```python\n",
    "print (\"内容\")\n",
    "```\n",
    "运行结果应该是:\n",
    "```\n",
    "内容\n",
    "```"
   ]
  },
  {
   "cell_type": "code",
   "execution_count": null,
   "metadata": {},
   "outputs": [],
   "source": [
    "# 调试Python\n",
    "\n",
    "# Hello World.py\n",
    "\n",
    "print (\"Hello World!\") #打印（输出） Hello World!"
   ]
  },
  {
   "cell_type": "markdown",
   "metadata": {},
   "source": [
    "# 函数\n",
    "在代码中，我们可以使用一个函数来定于一个代码。\n",
    "比如说，我把一个很复杂的代码定义为一个函数，那么我只需要引用函数即可，不需要拷贝粘贴复杂代码了。\n",
    "用法：\n",
    "```python\n",
    "def say_hello(): #定义say_hello 函数\n",
    "    print (\"Hello!\") # 打印（输出） Hello!\n",
    "    print (\"I am Michael!\") # 打印（输出） I am Michael!\n",
    "say_hello() #调用say_hello 函数\n",
    "```\n",
    "你可以使用下方的编译器来体验这个代码的输出～"
   ]
  },
  {
   "cell_type": "code",
   "execution_count": null,
   "metadata": {},
   "outputs": [],
   "source": [
    "def say_hello(): #定义say_hello 函数\n",
    "    print (\"Hello!\") # 打印（输出） Hello!\n",
    "    print (\"I am Michael!\") # 打印（输出） I am Michael!\n",
    "say_hello() #调用say_hello 函数"
   ]
  },
  {
   "cell_type": "markdown",
   "metadata": {},
   "source": [
    "**切记**\n",
    "定义函数完毕之后，一定要在函数后面写**冒号**，并且进行缩进(TAB)"
   ]
  },
  {
   "cell_type": "markdown",
   "metadata": {},
   "source": [
    "# 导入函数 和 导入函数中的变量。\n",
    "我们可以通过一些包来实现更多功能，我们可以在代码开头使用`import 包名称`来导入。\n",
    "我们可以通过`变量名 = 值`来定义变量。\n",
    "我们来看一下这几行代码，仔细观察注释。"
   ]
  },
  {
   "cell_type": "code",
   "execution_count": null,
   "metadata": {},
   "outputs": [],
   "source": [
    "import getpass #导入getpass函数包\n",
    "from datetime import date #从datetime函数中导入date\n",
    "\n",
    "username = getpass.getuser() #定义用户名的变量，使用getpass函数拿到用户名，储存在username 变量中\n",
    "current_date = date.today() #使用date函数获得日期，储存在current_date里面\n",
    "\n",
    "\n",
    "print(\"Hello,\",username,\",Today is:\",current_date) #打印结果，不使用双引号代表打印变量。"
   ]
  }
 ],
 "metadata": {
  "kernelspec": {
   "display_name": "Python 3",
   "language": "python",
   "name": "python3"
  },
  "language_info": {
   "codemirror_mode": {
    "name": "ipython",
    "version": 3
   },
   "file_extension": ".py",
   "mimetype": "text/x-python",
   "name": "python",
   "nbconvert_exporter": "python",
   "pygments_lexer": "ipython3",
   "version": "3.11.6"
  }
 },
 "nbformat": 4,
 "nbformat_minor": 2
}
